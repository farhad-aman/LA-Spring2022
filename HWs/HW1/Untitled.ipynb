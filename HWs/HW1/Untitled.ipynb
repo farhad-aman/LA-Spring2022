{
 "cells": [
  {
   "cell_type": "code",
   "execution_count": 1,
   "id": "c224962a",
   "metadata": {},
   "outputs": [
    {
     "name": "stdout",
     "output_type": "stream",
     "text": [
      "C H O\n",
      "C2 H6 + O2 -> C O2 + H2 O\n"
     ]
    }
   ],
   "source": [
    "import numpy as np\n",
    "np.set_printoptions(suppress=True)\n",
    "elements = input().split()\n",
    "s = input()\n",
    "s1 = s.split(' -> ')[0]\n",
    "s2 = s.split(' -> ')[1]\n",
    "mols1 = s1.split(' + ')  \n",
    "mols2 = s2.split(' + ')  \n",
    "sz = len(mols1) + len(mols2)"
   ]
  },
  {
   "cell_type": "code",
   "execution_count": 2,
   "id": "21cc448c",
   "metadata": {},
   "outputs": [
    {
     "data": {
      "text/plain": [
       "array([[ 2.,  0., -1.,  0.,  0.],\n",
       "       [ 6.,  0.,  0., -2.,  0.],\n",
       "       [ 0.,  2., -2., -1.,  0.]])"
      ]
     },
     "execution_count": 2,
     "metadata": {},
     "output_type": "execute_result"
    }
   ],
   "source": [
    "co = np.zeros((len(elements),sz))\n",
    "for j in range(len(mols1)):\n",
    "    for e in mols1[j].split():\n",
    "        if len(e) == 1:\n",
    "            for i in range(len(elements)):\n",
    "                if elements[i] == e:\n",
    "                    co[i][j] = 1 \n",
    "        else: \n",
    "            for i in range(len(elements)):\n",
    "                if elements[i] == e[0]:\n",
    "                    co[i][j] = int(e[1:])\n",
    "for j in range(len(mols2)):\n",
    "    for e in mols2[j].split():\n",
    "        if len(e) == 1:\n",
    "            for i in range(len(elements)):\n",
    "                if elements[i] == e:\n",
    "                    co[i][j+len(mols1)] = -1 \n",
    "        else: \n",
    "            for i in range(len(elements)):\n",
    "                if elements[i] == e[0]:\n",
    "                    co[i][j+len(mols1)] =  -1 * int(e[1:])\n",
    "z = np.zeros(shape=(len(elements),1))\n",
    "augmented = np.append(co, z, axis=1)\n",
    "r = augmented.shape[0]\n",
    "c = augmented.shape[1]\n",
    "augmented"
   ]
  },
  {
   "cell_type": "code",
   "execution_count": 4,
   "id": "3b20abee",
   "metadata": {},
   "outputs": [
    {
     "data": {
      "text/plain": [
       "array([[ 2.,  0., -1.,  0.,  0.],\n",
       "       [ 0.,  2., -2., -1.,  0.],\n",
       "       [ 0.,  0.,  3., -2.,  0.]])"
      ]
     },
     "execution_count": 4,
     "metadata": {},
     "output_type": "execute_result"
    }
   ],
   "source": [
    "curr_row = 0\n",
    "curr_col = 0\n",
    "pivot_rows = []\n",
    "pivot_cols = []\n",
    "while curr_row < r and curr_col < c:\n",
    "    is_zero = 1\n",
    "    while is_zero == 1:\n",
    "        for i in range(curr_row, r):\n",
    "            if augmented[i][curr_col] != 0:\n",
    "                is_zero = 0\n",
    "        if is_zero == 1:\n",
    "            curr_col += 1\n",
    "        if curr_col == c:\n",
    "            break\n",
    "    if curr_col == c:\n",
    "        break\n",
    "    for i in range(curr_row,r):\n",
    "        if augmented[i][curr_col] != 0:\n",
    "            augmented[[curr_row, i]] = augmented[[i, curr_row]]\n",
    "            break\n",
    "    for i in range(curr_row+1, r):\n",
    "        if augmented[i][curr_col] !=0:\n",
    "            augmented[i] -= (augmented[i][curr_col] / augmented[curr_row][curr_col]) * augmented[curr_row]\n",
    "    pivot_rows.append(curr_row)\n",
    "    pivot_cols.append(curr_col)\n",
    "    curr_row += 1\n",
    "    augmented = np.around(augmented, decimals=8)\n",
    "echelon = augmented\n",
    "echelon"
   ]
  },
  {
   "cell_type": "code",
   "execution_count": 5,
   "id": "1219eb1a",
   "metadata": {},
   "outputs": [
    {
     "data": {
      "text/plain": [
       "array([[ 1.        ,  0.        ,  0.        , -0.33333333,  0.        ],\n",
       "       [ 0.        ,  1.        ,  0.        , -1.16666667,  0.        ],\n",
       "       [ 0.        ,  0.        ,  1.        , -0.66666667,  0.        ]])"
      ]
     },
     "execution_count": 5,
     "metadata": {},
     "output_type": "execute_result"
    }
   ],
   "source": [
    "reduced = echelon.copy()\n",
    "pivot_cols.reverse()\n",
    "pivot_rows.reverse()\n",
    "for i in range(len(pivot_cols)):\n",
    "    reduced[pivot_rows[i]] /= (reduced[pivot_rows[i]][pivot_cols[i]])\n",
    "    for j in range(pivot_rows[i]):\n",
    "        reduced[j] -= (reduced[j][pivot_cols[i]] / reduced[pivot_rows[i]][pivot_cols[i]]) * reduced[pivot_rows[i]]\n",
    "reduced"
   ]
  },
  {
   "cell_type": "code",
   "execution_count": 6,
   "id": "2ce05ade",
   "metadata": {},
   "outputs": [
    {
     "name": "stdout",
     "output_type": "stream",
     "text": [
      "X1 = 0.333333, X2 = 1.166667, X3 = 0.666667, X4 = 1.0"
     ]
    }
   ],
   "source": [
    "answers = [1 for i in range(c-1)]\n",
    "for i in pivot_cols:\n",
    "    answers[i] = 0\n",
    "for i in range(len(pivot_cols)):\n",
    "    sum = 0\n",
    "    for j in range(pivot_cols[i]+1, c-1):\n",
    "        sum -= reduced[pivot_rows[i]][j]\n",
    "    sum += reduced[pivot_rows[i]][c-1]\n",
    "    answers[pivot_cols[i]] = sum\n",
    "answers = np.around(answers, decimals=6)\n",
    "for i in range(len(answers)):\n",
    "    if i == 0:\n",
    "        print('X1 = ',answers[0],end='',sep='')\n",
    "    else:\n",
    "        print(', X',i+1,' = ',answers[i],sep='',end='')"
   ]
  },
  {
   "cell_type": "code",
   "execution_count": null,
   "id": "5b81f1f0",
   "metadata": {},
   "outputs": [],
   "source": []
  }
 ],
 "metadata": {
  "kernelspec": {
   "display_name": "Python 3 (ipykernel)",
   "language": "python",
   "name": "python3"
  },
  "language_info": {
   "codemirror_mode": {
    "name": "ipython",
    "version": 3
   },
   "file_extension": ".py",
   "mimetype": "text/x-python",
   "name": "python",
   "nbconvert_exporter": "python",
   "pygments_lexer": "ipython3",
   "version": "3.9.7"
  }
 },
 "nbformat": 4,
 "nbformat_minor": 5
}
