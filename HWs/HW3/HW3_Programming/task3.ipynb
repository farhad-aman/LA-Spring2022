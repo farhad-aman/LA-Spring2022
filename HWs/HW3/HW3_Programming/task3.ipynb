{
 "cells": [
  {
   "cell_type": "code",
   "execution_count": 1,
   "id": "104213a4",
   "metadata": {},
   "outputs": [],
   "source": [
    "import numpy as np\n",
    "r = np.array([25,-22,123,0,-1])\n",
    "c = np.array([1,42,13,7,91])\n",
    "s = len(r)"
   ]
  },
  {
   "cell_type": "code",
   "execution_count": 2,
   "id": "45ab04ef",
   "metadata": {},
   "outputs": [
    {
     "data": {
      "text/plain": [
       "array([[ 25.,  42.,  13.,   7.,  91.],\n",
       "       [-22.,  25.,  42.,  13.,   7.],\n",
       "       [123., -22.,  25.,  42.,  13.],\n",
       "       [  0., 123., -22.,  25.,  42.],\n",
       "       [ -1.,   0., 123., -22.,  25.]])"
      ]
     },
     "execution_count": 2,
     "metadata": {},
     "output_type": "execute_result"
    }
   ],
   "source": [
    "toeplitz = np.zeros((r.shape[0], r.shape[0]))\n",
    "for i in range(toeplitz.shape[0]):\n",
    "    for j in range(toeplitz.shape[1]):\n",
    "        delta = i - j\n",
    "        if delta >= 0:\n",
    "            toeplitz[i][j] = r[i-j]\n",
    "        else:\n",
    "            toeplitz[i][j] = c[j-i]\n",
    "toeplitz"
   ]
  },
  {
   "cell_type": "code",
   "execution_count": 3,
   "id": "5007d248",
   "metadata": {},
   "outputs": [
    {
     "name": "stdout",
     "output_type": "stream",
     "text": [
      "[[  25.           42.           13.            7.           91.        ]\n",
      " [   0.           61.96         53.44         19.16         87.08      ]\n",
      " [   0.            0.          158.24015494   78.26275016 -113.38411879]\n",
      " [   0.            0.            0.           50.31378868 -222.64507943]\n",
      " [   0.            0.            0.            0.         -251.82951144]]\n"
     ]
    }
   ],
   "source": [
    "curr_row = 0\n",
    "curr_col = 0\n",
    "pivot_rows = []\n",
    "pivot_cols = []\n",
    "while curr_row < s and curr_col < s:\n",
    "    is_zero = 1\n",
    "    while is_zero == 1:\n",
    "        for i in range(curr_row, s):\n",
    "            if toeplitz[i][curr_col] != 0:\n",
    "                is_zero = 0\n",
    "        if is_zero == 1:\n",
    "            curr_col += 1\n",
    "        if curr_col == s:\n",
    "            break\n",
    "    if curr_col == s:\n",
    "        break\n",
    "    for i in range(curr_row,s):\n",
    "        if toeplitz[i][curr_col] != 0:\n",
    "            toeplitz[[curr_row, i]] = toeplitz[[i, curr_row]]\n",
    "            break\n",
    "    for i in range(curr_row+1, s):\n",
    "        if toeplitz[i][curr_col] !=0:\n",
    "            toeplitz[i] -= (toeplitz[i][curr_col] / toeplitz[curr_row][curr_col]) * toeplitz[curr_row]\n",
    "    pivot_rows.append(curr_row)\n",
    "    pivot_cols.append(curr_col)\n",
    "    curr_row += 1\n",
    "    toeplitz = np.around(toeplitz, decimals=8)\n",
    "print(toeplitz)"
   ]
  },
  {
   "cell_type": "code",
   "execution_count": 4,
   "id": "c4e283c0",
   "metadata": {},
   "outputs": [
    {
     "data": {
      "text/plain": [
       "-3105716158.0488586"
      ]
     },
     "execution_count": 4,
     "metadata": {},
     "output_type": "execute_result"
    }
   ],
   "source": [
    "det = 1\n",
    "for i in range(s):\n",
    "    det *= toeplitz[i][i]\n",
    "det"
   ]
  },
  {
   "cell_type": "code",
   "execution_count": null,
   "id": "73b9ed07",
   "metadata": {},
   "outputs": [],
   "source": []
  }
 ],
 "metadata": {
  "kernelspec": {
   "display_name": "Python 3 (ipykernel)",
   "language": "python",
   "name": "python3"
  },
  "language_info": {
   "codemirror_mode": {
    "name": "ipython",
    "version": 3
   },
   "file_extension": ".py",
   "mimetype": "text/x-python",
   "name": "python",
   "nbconvert_exporter": "python",
   "pygments_lexer": "ipython3",
   "version": "3.9.7"
  }
 },
 "nbformat": 4,
 "nbformat_minor": 5
}
